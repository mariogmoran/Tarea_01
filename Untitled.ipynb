{
  "nbformat": 4,
  "nbformat_minor": 0,
  "metadata": {
    "colab": {
      "name": "Untitled",
      "provenance": []
    },
    "kernelspec": {
      "name": "python3",
      "display_name": "Python 3"
    }
  },
  "cells": [
    {
      "cell_type": "markdown",
      "metadata": {
        "id": "DS20gSZyiIbd"
      },
      "source": [
        ""
      ]
    },
    {
      "cell_type": "code",
      "metadata": {
        "id": "RQdXt21diKLC"
      },
      "source": [
        ""
      ],
      "execution_count": null,
      "outputs": []
    },
    {
      "cell_type": "markdown",
      "metadata": {
        "id": "GS_YiYQChNb-"
      },
      "source": [
        "Ejercicio_2"
      ]
    },
    {
      "cell_type": "code",
      "metadata": {
        "id": "w6uy3jr5cbcq",
        "outputId": "b29eeb54-1f00-4bd7-b005-6f7e428e71df",
        "colab": {
          "base_uri": "https://localhost:8080/"
        }
      },
      "source": [
        "frase=input(\"Intruduzca una frase: \")\n",
        "a=int(input(\"Introduzca un numero: \"))\n",
        "contador=0\n",
        "while  contador<=a:\n",
        "    contador = contador+1\n",
        "    print(frase)\n",
        "print(\"Fin del programa\")"
      ],
      "execution_count": 5,
      "outputs": [
        {
          "output_type": "stream",
          "text": [
            "Intruduzca una frase: Cola\n",
            "Introduzca un numero: 5\n",
            "Cola\n",
            "Cola\n",
            "Cola\n",
            "Cola\n",
            "Cola\n",
            "Cola\n",
            "Fin del programa\n"
          ],
          "name": "stdout"
        }
      ]
    }
  ]
}